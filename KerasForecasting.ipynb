{
 "cells": [
  {
   "cell_type": "code",
   "execution_count": 289,
   "metadata": {},
   "outputs": [],
   "source": [
    "\n",
    "import numpy as np\n",
    "import matplotlib.pyplot as plt\n",
    "import pandas as pd\n",
    "from pandas import datetime\n",
    "import math, time\n",
    "import itertools\n",
    "from sklearn import preprocessing\n",
    "import datetime\n",
    "from operator import itemgetter\n",
    "from sklearn.metrics import mean_squared_error\n",
    "from math import sqrt\n",
    "from keras.models import Sequential\n",
    "from keras.layers.core import Dense, Dropout, Activation\n",
    "from keras.layers.recurrent import LSTM"
   ]
  },
  {
   "cell_type": "code",
   "execution_count": 290,
   "metadata": {},
   "outputs": [],
   "source": [
    "def get_stock_data(stock_name, normalized=0):\n",
    "    #url=\"http://www.google.com/finance/historical?q=\"+stock_name+\"&startdate=Jul+12%2C+2013&enddate=Jul+11%2C+2017&num=300&ei=rCtlWZGSFN3KsQHwrqWQCw&output=csv\"\n",
    "    url=\"http://www.google.com/finance/historical?q=%s&ei=u-lHWfGPNNWIsgHHqIqICw&output=csv\" % stock_name \n",
    "\n",
    "\n",
    "    col_names = ['Date','Open','High','Low','Close','Volume']\n",
    "    stocks = pd.read_csv(\"/Users/ajohnson/Downloads/googl.csv\", header=0, names=col_names) \n",
    "    df = pd.DataFrame(stocks)\n",
    "    df.drop(df.columns[[0,3,5]], axis=1, inplace=True) \n",
    "    return df"
   ]
  },
  {
   "cell_type": "code",
   "execution_count": 291,
   "metadata": {},
   "outputs": [],
   "source": [
    "stock_name = 'GOOGL'\n",
    "df = get_stock_data(stock_name,0)"
   ]
  },
  {
   "cell_type": "code",
   "execution_count": 292,
   "metadata": {},
   "outputs": [
    {
     "data": {
      "text/html": [
       "<div>\n",
       "<style>\n",
       "    .dataframe thead tr:only-child th {\n",
       "        text-align: right;\n",
       "    }\n",
       "\n",
       "    .dataframe thead th {\n",
       "        text-align: left;\n",
       "    }\n",
       "\n",
       "    .dataframe tbody tr th {\n",
       "        vertical-align: top;\n",
       "    }\n",
       "</style>\n",
       "<table border=\"1\" class=\"dataframe\">\n",
       "  <thead>\n",
       "    <tr style=\"text-align: right;\">\n",
       "      <th></th>\n",
       "      <th>Open</th>\n",
       "      <th>High</th>\n",
       "      <th>Close</th>\n",
       "    </tr>\n",
       "  </thead>\n",
       "  <tbody>\n",
       "    <tr>\n",
       "      <th>1002</th>\n",
       "      <td>433.09</td>\n",
       "      <td>433.42</td>\n",
       "      <td>427.26</td>\n",
       "    </tr>\n",
       "    <tr>\n",
       "      <th>1003</th>\n",
       "      <td>434.16</td>\n",
       "      <td>437.43</td>\n",
       "      <td>433.30</td>\n",
       "    </tr>\n",
       "    <tr>\n",
       "      <th>1004</th>\n",
       "      <td>437.94</td>\n",
       "      <td>439.19</td>\n",
       "      <td>436.61</td>\n",
       "    </tr>\n",
       "    <tr>\n",
       "      <th>1005</th>\n",
       "      <td>444.44</td>\n",
       "      <td>447.50</td>\n",
       "      <td>438.48</td>\n",
       "    </tr>\n",
       "    <tr>\n",
       "      <th>1006</th>\n",
       "      <td>441.81</td>\n",
       "      <td>445.12</td>\n",
       "      <td>444.44</td>\n",
       "    </tr>\n",
       "  </tbody>\n",
       "</table>\n",
       "</div>"
      ],
      "text/plain": [
       "        Open    High   Close\n",
       "1002  433.09  433.42  427.26\n",
       "1003  434.16  437.43  433.30\n",
       "1004  437.94  439.19  436.61\n",
       "1005  444.44  447.50  438.48\n",
       "1006  441.81  445.12  444.44"
      ]
     },
     "execution_count": 292,
     "metadata": {},
     "output_type": "execute_result"
    }
   ],
   "source": [
    "df.tail()"
   ]
  },
  {
   "cell_type": "code",
   "execution_count": 262,
   "metadata": {},
   "outputs": [],
   "source": [
    "today = datetime.date.today()\n",
    "file_name = stock_name+'_stock_%s.csv' % today\n",
    "df.to_csv(file_name)"
   ]
  },
  {
   "cell_type": "code",
   "execution_count": 279,
   "metadata": {},
   "outputs": [
    {
     "data": {
      "text/plain": [
       "numpy.float64"
      ]
     },
     "execution_count": 279,
     "metadata": {},
     "output_type": "execute_result"
    }
   ],
   "source": [
    "type(df.Open[0])"
   ]
  },
  {
   "cell_type": "code",
   "execution_count": 72,
   "metadata": {},
   "outputs": [],
   "source": [
    "df.Close = pd.to_numeric(df.Close)"
   ]
  },
  {
   "cell_type": "code",
   "execution_count": 293,
   "metadata": {},
   "outputs": [
    {
     "data": {
      "text/html": [
       "<div>\n",
       "<style>\n",
       "    .dataframe thead tr:only-child th {\n",
       "        text-align: right;\n",
       "    }\n",
       "\n",
       "    .dataframe thead th {\n",
       "        text-align: left;\n",
       "    }\n",
       "\n",
       "    .dataframe tbody tr th {\n",
       "        vertical-align: top;\n",
       "    }\n",
       "</style>\n",
       "<table border=\"1\" class=\"dataframe\">\n",
       "  <thead>\n",
       "    <tr style=\"text-align: right;\">\n",
       "      <th></th>\n",
       "      <th>Open</th>\n",
       "      <th>High</th>\n",
       "      <th>Close</th>\n",
       "    </tr>\n",
       "  </thead>\n",
       "  <tbody>\n",
       "    <tr>\n",
       "      <th>0</th>\n",
       "      <td>0.96600</td>\n",
       "      <td>0.97581</td>\n",
       "      <td>0.97372</td>\n",
       "    </tr>\n",
       "    <tr>\n",
       "      <th>1</th>\n",
       "      <td>0.95625</td>\n",
       "      <td>0.96618</td>\n",
       "      <td>0.96481</td>\n",
       "    </tr>\n",
       "    <tr>\n",
       "      <th>2</th>\n",
       "      <td>0.94274</td>\n",
       "      <td>0.96543</td>\n",
       "      <td>0.95990</td>\n",
       "    </tr>\n",
       "    <tr>\n",
       "      <th>3</th>\n",
       "      <td>0.93669</td>\n",
       "      <td>0.94408</td>\n",
       "      <td>0.93743</td>\n",
       "    </tr>\n",
       "    <tr>\n",
       "      <th>4</th>\n",
       "      <td>0.93945</td>\n",
       "      <td>0.93975</td>\n",
       "      <td>0.93428</td>\n",
       "    </tr>\n",
       "  </tbody>\n",
       "</table>\n",
       "</div>"
      ],
      "text/plain": [
       "      Open     High    Close\n",
       "0  0.96600  0.97581  0.97372\n",
       "1  0.95625  0.96618  0.96481\n",
       "2  0.94274  0.96543  0.95990\n",
       "3  0.93669  0.94408  0.93743\n",
       "4  0.93945  0.93975  0.93428"
      ]
     },
     "execution_count": 293,
     "metadata": {},
     "output_type": "execute_result"
    }
   ],
   "source": [
    "df['High'] = df['High'] / 1000\n",
    "df['Open'] = df['Open'] / 1000\n",
    "df['Close'] = df['Close'] / 1000\n",
    "df.head(5)"
   ]
  },
  {
   "cell_type": "code",
   "execution_count": 265,
   "metadata": {},
   "outputs": [
    {
     "data": {
      "text/plain": [
       "1007"
      ]
     },
     "execution_count": 265,
     "metadata": {},
     "output_type": "execute_result"
    }
   ],
   "source": [
    "len(df.as_matrix())"
   ]
  },
  {
   "cell_type": "code",
   "execution_count": 281,
   "metadata": {
    "collapsed": true
   },
   "outputs": [],
   "source": [
    "def load_data(stock, seq_len):\n",
    "    nFeatures = len(stock.columns)\n",
    "    data = stock.as_matrix()\n",
    "    sequence_length = seq_len+1\n",
    "    result = []\n",
    "    for index in range(len(data) - sequence_length):\n",
    "        result.append(data[index: index + sequence_length])\n",
    "    result = np.array(result)\n",
    "    testRow = round(0.9 * result.shape[0])\n",
    "    train = result[:int(testRow), :]\n",
    "    train_x = train[:, :-1]\n",
    "    train_y = train[:, -1][:, -1]\n",
    "    test_x = result[int(testRow):, :-1]\n",
    "    test_y = result[int(testRow):, -1][:, -1]\n",
    "    \n",
    "    train_x = np.reshape(train_x, (train_x.shape[0], train_x.shape[1], nFeatures))\n",
    "    test_x = np.reshape(test_x, (test_x.shape[0], test_x.shape[1], nFeatures))\n",
    "    return [train_x, train_y, test_x, test_y]"
   ]
  },
  {
   "cell_type": "code",
   "execution_count": 282,
   "metadata": {},
   "outputs": [],
   "source": [
    "def build_model(layers):\n",
    "    d = 0.2\n",
    "    model = Sequential()\n",
    "    model.add(LSTM(128, input_shape=(layers[1], layers[0]), return_sequences=True))\n",
    "    model.add(Dropout(d))\n",
    "    model.add(LSTM(64, input_shape=(layers[1], layers[0]), return_sequences=False))\n",
    "    model.add(Dropout(d))\n",
    "    model.add(Dense(16, activation=\"relu\", kernel_initializer=\"uniform\"))\n",
    "    model.add(Dense(1, activation=\"relu\", kernel_initializer=\"uniform\"))\n",
    "    model.compile(loss='mse', optimizer='adam', metrics=['accuracy'])\n",
    "    return model\n",
    "    \n",
    "    "
   ]
  },
  {
   "cell_type": "code",
   "execution_count": 294,
   "metadata": {},
   "outputs": [
    {
     "name": "stdout",
     "output_type": "stream",
     "text": [
      "train_X (901, 5, 3)\n",
      "train_Y (901,)\n",
      "test_X (100, 5, 3)\n",
      "test_Y (100,)\n"
     ]
    }
   ],
   "source": [
    "window = 5\n",
    "train_X, train_Y, test_X, test_Y = load_data(df[::-1], window)\n",
    "print(\"train_X\", train_X.shape)\n",
    "print(\"train_Y\", train_Y.shape)\n",
    "print(\"test_X\", test_X.shape)\n",
    "print(\"test_Y\", test_Y.shape)"
   ]
  },
  {
   "cell_type": "code",
   "execution_count": 269,
   "metadata": {},
   "outputs": [
    {
     "data": {
      "text/plain": [
       "array([ 0.95671,  0.95484,  0.95589,  0.95514,  0.95922,  0.96461,\n",
       "        0.94217,  0.9505 ,  0.95465,  0.96407,  0.97055,  0.97761,\n",
       "        0.99186,  0.99327,  0.99617,  0.98709,  0.98829,  0.99612,\n",
       "        1.00388,  0.99668,  1.00159,  1.00428,  0.97012,  0.96181,\n",
       "        0.9705 ,  0.96793,  0.96018,  0.95862,  0.97522,  0.96899,\n",
       "        0.97859,  0.97662,  0.98609,  0.97209,  0.94809,  0.96101,\n",
       "        0.93782,  0.92968,  0.91946,  0.93226,  0.92769,  0.94081,\n",
       "        0.951  ,  0.95353,  0.96766,  0.96885,  0.97691,  0.97596,\n",
       "        0.98695,  0.99277,  0.99219,  0.99384,  0.99831,  0.96903,\n",
       "        0.96531,  0.95251,  0.95833,  0.9455 ,  0.94656,  0.94764,\n",
       "        0.9403 ,  0.94579,  0.94575,  0.94419,  0.94008,  0.92359,\n",
       "        0.93009,  0.93893,  0.93808,  0.94427,  0.92766,  0.92618,\n",
       "        0.92087,  0.9404 ,  0.94258,  0.93689,  0.9305 ,  0.92813,\n",
       "        0.93575,  0.94363,  0.95524,  0.95199,  0.94148,  0.94202,\n",
       "        0.94989,  0.94141,  0.94329,  0.94665,  0.95044,  0.94013,\n",
       "        0.93529,  0.92975,  0.93686,  0.94754,  0.94755,  0.94326,\n",
       "        0.93428,  0.93743,  0.9599 ,  0.96481])"
      ]
     },
     "execution_count": 269,
     "metadata": {},
     "output_type": "execute_result"
    }
   ],
   "source": [
    "test_Y"
   ]
  },
  {
   "cell_type": "code",
   "execution_count": null,
   "metadata": {
    "collapsed": true
   },
   "outputs": [],
   "source": []
  },
  {
   "cell_type": "code",
   "execution_count": 295,
   "metadata": {},
   "outputs": [],
   "source": [
    "model = build_model([3, window,1])"
   ]
  },
  {
   "cell_type": "code",
   "execution_count": 296,
   "metadata": {},
   "outputs": [
    {
     "data": {
      "text/plain": [
       "<keras.models.Sequential at 0x12fcef748>"
      ]
     },
     "execution_count": 296,
     "metadata": {},
     "output_type": "execute_result"
    }
   ],
   "source": [
    "model"
   ]
  },
  {
   "cell_type": "code",
   "execution_count": 297,
   "metadata": {},
   "outputs": [
    {
     "data": {
      "text/plain": [
       "<keras.callbacks.History at 0x12eaadda0>"
      ]
     },
     "execution_count": 297,
     "metadata": {},
     "output_type": "execute_result"
    }
   ],
   "source": [
    "model.fit(\n",
    "    train_X,\n",
    "    train_Y, \n",
    "    batch_size=512,\n",
    "    epochs=500, \n",
    "    validation_split=0.1, \n",
    "    verbose=0)"
   ]
  },
  {
   "cell_type": "code",
   "execution_count": 286,
   "metadata": {},
   "outputs": [
    {
     "name": "stdout",
     "output_type": "stream",
     "text": [
      "Train Score: 0.00 MSE (0.02 RMSE)\n",
      "Test Score: 0.00 MSE (0.02 RMSE)\n"
     ]
    }
   ],
   "source": [
    "trainScore = model.evaluate(train_X, train_Y, verbose=0)\n",
    "print('Train Score: %.2f MSE (%.2f RMSE)' % (trainScore[0], math.sqrt(trainScore[0])))\n",
    "\n",
    "testScore = model.evaluate(test_X, test_Y, verbose=0)\n",
    "print('Test Score: %.2f MSE (%.2f RMSE)' % (testScore[0], math.sqrt(testScore[0])))"
   ]
  },
  {
   "cell_type": "code",
   "execution_count": 287,
   "metadata": {},
   "outputs": [
    {
     "name": "stdout",
     "output_type": "stream",
     "text": [
      "0 0.95671 0.932559 0.0258974113066 0.024150867424\n",
      "1 0.95484 0.937405 0.018599228707 0.0174350098038\n",
      "2 0.95589 0.940615 0.0162398278729 0.0152754188919\n",
      "3 0.95514 0.941173 0.014839845325 0.0139668637657\n",
      "4 0.95922 0.94161 0.0187022913951 0.0176102597427\n",
      "5 0.96461 0.941908 0.0241017507094 0.0227016404724\n",
      "6 0.94217 0.941502 0.0007099112269 0.000668382568359\n",
      "7 0.9505 0.942301 0.00870151443655 0.00819944190979\n",
      "8 0.95465 0.942922 0.0124382564642 0.0117283019066\n",
      "9 0.96407 0.94261 0.0227660933837 0.0214595573616\n",
      "10 0.97055 0.941627 0.0307157603838 0.0289227955818\n",
      "11 0.97761 0.940098 0.0399026322139 0.037512369976\n",
      "12 0.99186 0.943054 0.0517526458864 0.0488055623627\n",
      "13 0.99327 0.949424 0.0461817192838 0.043846031208\n",
      "14 0.99617 0.956081 0.0419310316857 0.0400894440842\n",
      "15 0.98709 0.962594 0.0254477429195 0.0244958485031\n",
      "16 0.98829 0.967717 0.0212588826778 0.0205725908661\n",
      "17 0.99612 0.971839 0.0249841397187 0.024280572052\n",
      "18 1.00388 0.97299 0.0317475881971 0.0308900831985\n",
      "19 0.99668 0.973255 0.0240684894503 0.0234247829247\n",
      "20 1.00159 0.973698 0.0286459147937 0.0278924568558\n",
      "21 1.00428 0.975059 0.0299685975519 0.0292211463737\n",
      "22 0.97012 0.977812 -0.00786659538418 0.00769205177307\n",
      "23 0.96181 0.979572 -0.018132825173 0.0177624153519\n",
      "24 0.9705 0.977239 -0.00689633527933 0.00673937034607\n",
      "25 0.96793 0.972912 -0.00512084552383 0.00498213274002\n",
      "26 0.96018 0.966832 -0.00687993930735 0.00665174371719\n",
      "27 0.95862 0.957923 0.000727683290939 0.00069706451416\n",
      "28 0.97522 0.950683 0.0258101248554 0.024537240715\n",
      "29 0.96899 0.951353 0.0185385263786 0.0176366884613\n",
      "30 0.97859 0.949486 0.030652031822 0.0291036847496\n",
      "31 0.97662 0.94852 0.0296251597019 0.0281000548553\n",
      "32 0.98609 0.953397 0.0342912866044 0.0326932028198\n",
      "33 0.97209 0.958222 0.0144726044168 0.0138679684067\n",
      "34 0.94809 0.959579 -0.0119727041554 0.0114887525177\n",
      "35 0.96101 0.960158 0.000886866841486 0.000851532707214\n",
      "36 0.93782 0.959186 -0.0222755198519 0.0213663751411\n",
      "37 0.92968 0.955515 -0.0270373781294 0.0258346098137\n",
      "38 0.91946 0.947876 -0.029978214828 0.0284156189346\n",
      "39 0.93226 0.936857 -0.00490668964521 0.00459686588287\n",
      "40 0.92769 0.93107 -0.00363032748974 0.00338008934021\n",
      "41 0.94081 0.924085 0.0180986985688 0.0167247405624\n",
      "42 0.951 0.919972 0.0337266417944 0.0310275802612\n",
      "43 0.95353 0.918979 0.037597575525 0.0345513685036\n",
      "44 0.96766 0.922539 0.0489091158492 0.0451205870247\n",
      "45 0.96885 0.927869 0.0441672399887 0.04098139534\n",
      "46 0.97691 0.935739 0.0439978693407 0.0411705423927\n",
      "47 0.97596 0.943099 0.0348438754053 0.032861216507\n",
      "48 0.98695 0.949315 0.0396448194923 0.0376354057312\n",
      "49 0.99277 0.955544 0.0389579185207 0.0372260050964\n",
      "50 0.99219 0.959549 0.0340168193287 0.0326408113861\n",
      "51 0.99384 0.963051 0.0319699275276 0.0307886808777\n",
      "52 0.99831 0.966684 0.0327163644534 0.0316263738251\n",
      "53 0.96903 0.97063 -0.00164797458584 0.00159957286835\n",
      "54 0.96531 0.972483 -0.00737551740763 0.00717256206512\n",
      "55 0.95251 0.97064 -0.0186781001769 0.018129705658\n",
      "56 0.95833 0.965985 -0.00792492111798 0.00765535776138\n",
      "57 0.9455 0.959839 -0.0149390721032 0.0143391056061\n",
      "58 0.94656 0.950217 -0.003848103702 0.00365653175354\n",
      "59 0.94764 0.946278 0.00143947484704 0.00136214317322\n",
      "60 0.9403 0.94159 -0.00137009805498 0.00129007072449\n",
      "61 0.94579 0.937921 0.00839029431174 0.00786942962646\n",
      "62 0.94575 0.935744 0.0106929158475 0.0100058336258\n",
      "63 0.94419 0.933414 0.0115442188247 0.0107755407715\n",
      "64 0.94008 0.932625 0.0079937000274 0.00745512350082\n",
      "65 0.92359 0.931866 -0.00888065099708 0.00827557292938\n",
      "66 0.93009 0.930736 -0.000693760084595 0.00064570728302\n",
      "67 0.93893 0.928561 0.0111667710539 0.0103690277863\n",
      "68 0.93808 0.925235 0.0138829232639 0.0128449669647\n",
      "69 0.94427 0.921984 0.0241717010826 0.0222859235001\n",
      "70 0.92766 0.921317 0.00688459974474 0.0063428994751\n",
      "71 0.92618 0.923777 0.00260084144615 0.0024025985527\n",
      "72 0.92087 0.926448 -0.0060209597548 0.00557810676575\n",
      "73 0.9404 0.925032 0.0166139818063 0.015368457222\n",
      "74 0.94258 0.922607 0.0216483663814 0.0199729357529\n",
      "75 0.93689 0.919126 0.0193266222743 0.0177636085892\n",
      "76 0.9305 0.918544 0.0130165866287 0.0119563035965\n",
      "77 0.92813 0.921541 0.00714974643643 0.00658878601074\n",
      "78 0.93575 0.925238 0.0113610608002 0.0105116887093\n",
      "79 0.94363 0.925074 0.0200588907375 0.0185559591103\n",
      "80 0.95524 0.923304 0.0345883330288 0.031935561409\n",
      "81 0.95199 0.922288 0.0322041566238 0.0297015225792\n",
      "82 0.94148 0.92447 0.0183993952613 0.0170096945572\n",
      "83 0.94202 0.929216 0.0137790682261 0.0128037343216\n",
      "84 0.94989 0.934194 0.0168016833246 0.0156960312271\n",
      "85 0.94141 0.936027 0.00575116896332 0.00538324800491\n",
      "86 0.94329 0.93437 0.0095467527968 0.00892019752502\n",
      "87 0.94665 0.931881 0.015848123801 0.0147685722351\n",
      "88 0.95044 0.932092 0.0196851313785 0.018348346653\n",
      "89 0.94013 0.933303 0.00731443184426 0.0068265842247\n",
      "90 0.93529 0.933099 0.00234786367152 0.0021907897377\n",
      "91 0.92975 0.932638 -0.0030964540511 0.00288787031174\n",
      "92 0.93686 0.931143 0.00613933034157 0.00571659694672\n",
      "93 0.94754 0.928893 0.0200745964473 0.0186471491241\n",
      "94 0.94755 0.925801 0.0234921785109 0.0217490804672\n",
      "95 0.94326 0.924711 0.0200587262619 0.0185485341644\n",
      "96 0.93428 0.926006 0.00893473680579 0.00827362325668\n",
      "97 0.93743 0.928908 0.00917435304131 0.00852212875366\n",
      "98 0.9599 0.930817 0.0312441236703 0.029082574749\n",
      "99 0.96481 0.930562 0.0368040757375 0.034248457489\n"
     ]
    }
   ],
   "source": [
    "diff = []\n",
    "ratio = []\n",
    "p = model.predict(test_X)\n",
    "for i in range(len(test_Y)):\n",
    "    predicted = p[i][0]\n",
    "    ratio.append(test_Y[i]/predicted - 1)\n",
    "    diff.append(abs(test_Y[i] - predicted))\n",
    "    print(i, test_Y[i], predicted, test_Y[i]/predicted - 1, abs(test_Y[i] - predicted))"
   ]
  },
  {
   "cell_type": "code",
   "execution_count": 288,
   "metadata": {},
   "outputs": [
    {
     "data": {
      "image/png": "[encoded data removed]",
      "text/plain": [
       "<matplotlib.figure.Figure at 0x12929cda0>"
      ]
     },
     "metadata": {},
     "output_type": "display_data"
    }
   ],
   "source": [
    "plt.plot(p, color='red', label='Prediction')\n",
    "plt.plot(test_Y, color='blue', label='test_Y')\n",
    "plt.legend(loc='upper left')\n",
    "plt.show()"
   ]
  },
  {
   "cell_type": "code",
   "execution_count": null,
   "metadata": {
    "collapsed": true
   },
   "outputs": [],
   "source": []
  },
  {
   "cell_type": "code",
   "execution_count": 164,
   "metadata": {},
   "outputs": [
    {
     "data": {
      "text/plain": [
       "0      0.10964\n",
       "1      0.10925\n",
       "2      0.10928\n",
       "3      0.10911\n",
       "4      0.10883\n",
       "5      0.10910\n",
       "6      0.10936\n",
       "7      0.10964\n",
       "8      0.11007\n",
       "9      0.11028\n",
       "10     0.11023\n",
       "11     0.11033\n",
       "12     0.11050\n",
       "13     0.11041\n",
       "14     0.11021\n",
       "16     0.10963\n",
       "17     0.10951\n",
       "18     0.10896\n",
       "19     0.10990\n",
       "20     0.10960\n",
       "21     0.10864\n",
       "22     0.10795\n",
       "23     0.10775\n",
       "24     0.10770\n",
       "25     0.10742\n",
       "26     0.10767\n",
       "27     0.10824\n",
       "28     0.10694\n",
       "29     0.10705\n",
       "30     0.10730\n",
       "        ...   \n",
       "219    0.09203\n",
       "220    0.09144\n",
       "221    0.09158\n",
       "222    0.09193\n",
       "223    0.09138\n",
       "224    0.09037\n",
       "225    0.08999\n",
       "226    0.08861\n",
       "228    0.08844\n",
       "229    0.08869\n",
       "230    0.08957\n",
       "231    0.08982\n",
       "232    0.09044\n",
       "233    0.09064\n",
       "234    0.09068\n",
       "235    0.09101\n",
       "236    0.09070\n",
       "237    0.09127\n",
       "238    0.09140\n",
       "239    0.09093\n",
       "240    0.09045\n",
       "241    0.09101\n",
       "242    0.09000\n",
       "243    0.09110\n",
       "244    0.09108\n",
       "245    0.09261\n",
       "247    0.09233\n",
       "248    0.09234\n",
       "249    0.09170\n",
       "250    0.09196\n",
       "Name: Close, Length: 247, dtype: float64"
      ]
     },
     "execution_count": 164,
     "metadata": {},
     "output_type": "execute_result"
    }
   ],
   "source": [
    "df.Close"
   ]
  },
  {
   "cell_type": "code",
   "execution_count": 107,
   "metadata": {},
   "outputs": [
    {
     "data": {
      "text/plain": [
       "array([[[ 0.10938,  0.10972,  0.10964],\n",
       "        [ 0.1093 ,  0.10936,  0.10925],\n",
       "        [ 0.10925,  0.10936,  0.10928],\n",
       "        [ 0.10935,  0.10935,  0.10911],\n",
       "        [ 0.10933,  0.10936,  0.10883],\n",
       "        [ 0.10924,  0.10924,  0.1091 ]],\n",
       "\n",
       "       [[ 0.1093 ,  0.10936,  0.10925],\n",
       "        [ 0.10925,  0.10936,  0.10928],\n",
       "        [ 0.10935,  0.10935,  0.10911],\n",
       "        [ 0.10933,  0.10936,  0.10883],\n",
       "        [ 0.10924,  0.10924,  0.1091 ],\n",
       "        [ 0.1096 ,  0.1096 ,  0.10936]],\n",
       "\n",
       "       [[ 0.10925,  0.10936,  0.10928],\n",
       "        [ 0.10935,  0.10935,  0.10911],\n",
       "        [ 0.10933,  0.10936,  0.10883],\n",
       "        [ 0.10924,  0.10924,  0.1091 ],\n",
       "        [ 0.1096 ,  0.1096 ,  0.10936],\n",
       "        [ 0.11   ,  0.1101 ,  0.10964]],\n",
       "\n",
       "       ..., \n",
       "       [[ 0.093  ,  0.093  ,  0.09277],\n",
       "        [ 0.09285,  0.09286,  0.09281],\n",
       "        [ 0.0925 ,  0.09257,  0.09257],\n",
       "        [ 0.09174,  0.09212,  0.09203],\n",
       "        [ 0.092  ,  0.092  ,  0.09144],\n",
       "        [ 0.09122,  0.09158,  0.09158]],\n",
       "\n",
       "       [[ 0.09285,  0.09286,  0.09281],\n",
       "        [ 0.0925 ,  0.09257,  0.09257],\n",
       "        [ 0.09174,  0.09212,  0.09203],\n",
       "        [ 0.092  ,  0.092  ,  0.09144],\n",
       "        [ 0.09122,  0.09158,  0.09158],\n",
       "        [ 0.09179,  0.09224,  0.09193]],\n",
       "\n",
       "       [[ 0.0925 ,  0.09257,  0.09257],\n",
       "        [ 0.09174,  0.09212,  0.09203],\n",
       "        [ 0.092  ,  0.092  ,  0.09144],\n",
       "        [ 0.09122,  0.09158,  0.09158],\n",
       "        [ 0.09179,  0.09224,  0.09193],\n",
       "        [ 0.08871,  0.09139,  0.09138]]])"
      ]
     },
     "execution_count": 107,
     "metadata": {},
     "output_type": "execute_result"
    }
   ],
   "source": [
    "result[:int(row), :]"
   ]
  },
  {
   "cell_type": "code",
   "execution_count": 136,
   "metadata": {
    "collapsed": true
   },
   "outputs": [],
   "source": [
    "x = np.array([[ 0,  1,  2],[ 3,  4,  5],[ 6,  7,  8],[ 9, 10, 11]])"
   ]
  },
  {
   "cell_type": "code",
   "execution_count": 137,
   "metadata": {},
   "outputs": [
    {
     "data": {
      "text/plain": [
       "array([[ 0,  1,  2],\n",
       "       [ 3,  4,  5],\n",
       "       [ 6,  7,  8],\n",
       "       [ 9, 10, 11]])"
      ]
     },
     "execution_count": 137,
     "metadata": {},
     "output_type": "execute_result"
    }
   ],
   "source": [
    "x"
   ]
  },
  {
   "cell_type": "code",
   "execution_count": 162,
   "metadata": {},
   "outputs": [
    {
     "data": {
      "text/plain": [
       "array([[0, 1, 2],\n",
       "       [3, 4, 5],\n",
       "       [6, 7, 8]])"
      ]
     },
     "execution_count": 162,
     "metadata": {},
     "output_type": "execute_result"
    }
   ],
   "source": [
    "x[:-1]"
   ]
  },
  {
   "cell_type": "code",
   "execution_count": null,
   "metadata": {
    "collapsed": true
   },
   "outputs": [],
   "source": []
  }
 ],
 "metadata": {
  "kernelspec": {
   "display_name": "Python 3",
   "language": "python",
   "name": "python3"
  },
  "language_info": {
   "codemirror_mode": {
    "name": "ipython",
    "version": 3
   },
   "file_extension": ".py",
   "mimetype": "text/x-python",
   "name": "python",
   "nbconvert_exporter": "python",
   "pygments_lexer": "ipython3",
   "version": "3.6.1"
  }
 },
 "nbformat": 4,
 "nbformat_minor": 2
}
