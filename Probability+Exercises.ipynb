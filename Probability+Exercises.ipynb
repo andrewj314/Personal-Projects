{
 "cells": [
  {
   "cell_type": "markdown",
   "metadata": {},
   "source": [
    "## Probability exercises\n",
    "\n",
    "Two probability problems I found interesting - both of these I solved analytically, but I wanted to check my work"
   ]
  },
  {
   "cell_type": "code",
   "execution_count": 16,
   "metadata": {
    "collapsed": true
   },
   "outputs": [],
   "source": [
    "import pandas as pd"
   ]
  },
  {
   "cell_type": "code",
   "execution_count": 17,
   "metadata": {
    "collapsed": true
   },
   "outputs": [],
   "source": [
    "import numpy as np"
   ]
  },
  {
   "cell_type": "markdown",
   "metadata": {},
   "source": [
    "Problem 1.\n",
    "\n",
    "I have three dice. I want to roll a four, a five, and a six. I keep rolling until I achieve this. If I get one of the numbers, I put that die aside and keep rolling the remaining two until I get the next number, and then the last one and so on. What's the expected number of rolls until I get all three numbers? For the purposes of this problem, rolling three dice at once, two, or one all count as one \"roll.\"\n",
    "\n",
    "I solved this problem analytically using a Markov chain approach and got 53.6/7. I wrote this code to check my answer."
   ]
  },
  {
   "cell_type": "code",
   "execution_count": 118,
   "metadata": {
    "collapsed": true
   },
   "outputs": [],
   "source": [
    "rollList = []"
   ]
  },
  {
   "cell_type": "code",
   "execution_count": 126,
   "metadata": {},
   "outputs": [
    {
     "name": "stdout",
     "output_type": "stream",
     "text": [
      "7.65426\n"
     ]
    }
   ],
   "source": [
    "rollList = []\n",
    "for i in range(100000):\n",
    "    numRolls = 0\n",
    "    goodRolls = []\n",
    "    while len(goodRolls) < 3:\n",
    "        numRolls+=1\n",
    "        for j in range(3 - len(goodRolls)):\n",
    "            roll = int(np.random.rand()*6) + 1\n",
    "            if (roll not in goodRolls) and (roll > 3):\n",
    "                #print(roll3, goodRolls)\n",
    "                goodRolls.append(roll)\n",
    "    rollList.append(numRolls)\n",
    "print(np.mean(rollList))"
   ]
  },
  {
   "cell_type": "code",
   "execution_count": 124,
   "metadata": {},
   "outputs": [
    {
     "name": "stdout",
     "output_type": "stream",
     "text": [
      "7.6571428571428575\n"
     ]
    }
   ],
   "source": [
    "print(53.6/7)"
   ]
  },
  {
   "cell_type": "markdown",
   "metadata": {},
   "source": [
    "Looks pretty good!"
   ]
  },
  {
   "cell_type": "code",
   "execution_count": null,
   "metadata": {
    "collapsed": true
   },
   "outputs": [],
   "source": []
  },
  {
   "cell_type": "code",
   "execution_count": null,
   "metadata": {
    "collapsed": true
   },
   "outputs": [],
   "source": []
  },
  {
   "cell_type": "markdown",
   "metadata": {},
   "source": [
    "Problem 2:\n",
    "\n",
    "Grandma gets sad if it rains two days or more in a row. Each day independently has a 40% chance of rain. Grandma is also about to embark on a ten-day cruise. What's the probability that Grandma gets sad at some point on her cruise? (Assume seasickness, cringeworthy standup comedy not factors)\n",
    "\n",
    "This was a tricky problem to solve analytically. I eventually figured out that a recursive approach could be used. The reasoning is the following:\n",
    "\n",
    "The probability of at least two rainy days in a row is one minus the probability of no rainy days in a row. For n days, the probability of no consecutive rainy days is:\n",
    "\n",
    "p(no rain on day 1) x p(no rain on remaining n-1 days) + \n",
    "p(rain on day 1) x p(no rain on day 2) x p(no rain on remaining n-2 days)\n",
    "\n",
    "p(no rain on day 1) = 60%\n",
    "p(rain on day 1) = 40%\n",
    "p(rain on day 1) x p(no rain on day 2) = 24%\n",
    "\n",
    "Base cases:\n",
    "\n",
    "n = 0 or 1: impossible to have two rainy days in a row with < 2 days, so p(no consecutive rainy days) = 1\n",
    "\n",
    "n = 2: two consecutive rainy days happen with probability 40% x 40% = 16%, \n",
    "so p(no consecutive rainy days) = 1 - 16% = 84%\n",
    "\n",
    "Chugging through the sequence for n = 10, I got 71%. The snippet of code below verifies this.\n",
    "\n",
    "Note: above n=30 this reaaaally grinds my Macbook Pro to a crawl (recursion!)"
   ]
  },
  {
   "cell_type": "code",
   "execution_count": 129,
   "metadata": {
    "collapsed": true
   },
   "outputs": [],
   "source": [
    "def prob(n):\n",
    "    if (n<=0.) or (n==1.):\n",
    "        return 1.\n",
    "    if n==2.:\n",
    "        return 0.84\n",
    "    else:\n",
    "        return 0.6*prob(n-1) + 0.24*prob(n-2)"
   ]
  },
  {
   "cell_type": "code",
   "execution_count": 130,
   "metadata": {},
   "outputs": [
    {
     "name": "stdout",
     "output_type": "stream",
     "text": [
      "0.7099863040000002\n"
     ]
    }
   ],
   "source": [
    "print(1-prob(10))"
   ]
  },
  {
   "cell_type": "code",
   "execution_count": null,
   "metadata": {
    "collapsed": true
   },
   "outputs": [],
   "source": []
  }
 ],
 "metadata": {
  "kernelspec": {
   "display_name": "Python 3",
   "language": "python",
   "name": "python3"
  },
  "language_info": {
   "codemirror_mode": {
    "name": "ipython",
    "version": 3
   },
   "file_extension": ".py",
   "mimetype": "text/x-python",
   "name": "python",
   "nbconvert_exporter": "python",
   "pygments_lexer": "ipython3",
   "version": "3.6.1"
  }
 },
 "nbformat": 4,
 "nbformat_minor": 2
}
