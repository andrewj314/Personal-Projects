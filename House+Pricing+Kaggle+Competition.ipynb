{
 "cells": [
  {
   "cell_type": "markdown",
   "metadata": {},
   "source": [
    "# Predicting house prices using Lasso + XGBoost"
   ]
  },
  {
   "cell_type": "markdown",
   "metadata": {},
   "source": [
    "This was a Kaggle competition in which I competed in July 2018. The goal was to predict the price of a house given 79 features in various formats. This was a good combination of data cleaning, feature exploration, and parameter tuning. My final score was 0.12093, which put me in the top 20% of ~5000 entrants."
   ]
  },
  {
   "cell_type": "code",
   "execution_count": 11,
   "metadata": {
    "_cell_guid": "b1076dfc-b9ad-4769-8c92-a6c4dae69d19",
    "_uuid": "8f2839f25d086af736a60e9eeb907d3b93b6e0e5"
   },
   "outputs": [],
   "source": [
    "#Importing the standard data science workhorses\n",
    "\n",
    "import numpy as np # linear algebra\n",
    "import pandas as pd # data processing, CSV file I/O (e.g. pd.read_csv)\n",
    "from scipy import stats\n",
    "\n",
    "import matplotlib.pyplot as plt #visualization\n",
    "\n",
    "import os"
   ]
  },
  {
   "cell_type": "code",
   "execution_count": 7,
   "metadata": {
    "_cell_guid": "79c7e3d0-c299-4dcb-8224-4455121ee9b0",
    "_uuid": "d629ff2d2480ee46fbb7e2d37f6b5fab8052498a"
   },
   "outputs": [],
   "source": [
    "#Reading in train and test sets\n",
    "trainDf = pd.read_csv('~/Kaggle/House Pricing/train.csv')\n",
    "testDf = pd.read_csv('~/Kaggle/House Pricing/test.csv')"
   ]
  },
  {
   "cell_type": "code",
   "execution_count": 8,
   "metadata": {
    "_uuid": "6528a6edbd0454229030525e7a6eb6fe7b398c97",
    "scrolled": true
   },
   "outputs": [],
   "source": [
    "#First pass at data cleaning - removing numerical outliers\n",
    "\n",
    "numDf = trainDf.select_dtypes(exclude=['object'])\n",
    "outliers = numDf[numDf.apply(lambda x: np.abs(x-x.mean())/x.std() > 5)]\n",
    "outlierList = []\n",
    "for col in outliers.columns:\n",
    "    outlierCol = outliers.loc[np.isnan(outliers[col])==False]\n",
    "    if len(outlierCol) > 0:\n",
    "        #print(col, len(outlierCol), outlierCol.index)\n",
    "        for x in list(outlierCol.index):\n",
    "            outlierList.append(x)"
   ]
  },
  {
   "cell_type": "code",
   "execution_count": 9,
   "metadata": {
    "_uuid": "1f19ad52453c1df314199e9c50aeeb430993ba8e",
    "collapsed": true
   },
   "outputs": [],
   "source": [
    "trainDf = trainDf.drop(trainDf.index[outlierList])"
   ]
  },
  {
   "cell_type": "code",
   "execution_count": null,
   "metadata": {
    "collapsed": true
   },
   "outputs": [],
   "source": []
  },
  {
   "cell_type": "code",
   "execution_count": 58,
   "metadata": {},
   "outputs": [
    {
     "data": {
      "image/png": "[encoded data removed]",
      "text/plain": [
       "<matplotlib.figure.Figure at 0x11bff86a0>"
      ]
     },
     "metadata": {},
     "output_type": "display_data"
    }
   ],
   "source": [
    "#First off, let's see our distribution of sale price. Looks pretty lognormal! We'll come back to this when we\n",
    "#start fitting\n",
    "plt.hist(trainDf['SalePrice'])\n",
    "plt.show()"
   ]
  },
  {
   "cell_type": "code",
   "execution_count": 55,
   "metadata": {},
   "outputs": [
    {
     "name": "stdout",
     "output_type": "stream",
     "text": [
      "1370 241\n"
     ]
    }
   ],
   "source": [
    "#Lot frontage is likely to be a key explanatory variable, and it has a good amount of missing data. We should\n",
    "#handle those values carefully.\n",
    "print(len(trainDf),len(trainDf.loc[np.isnan(trainDf['LotFrontage'])]))"
   ]
  },
  {
   "cell_type": "code",
   "execution_count": 59,
   "metadata": {},
   "outputs": [
    {
     "data": {
      "image/png": "[encoded data removed]",
      "text/plain": [
       "<matplotlib.figure.Figure at 0x11c71bc18>"
      ]
     },
     "metadata": {},
     "output_type": "display_data"
    }
   ],
   "source": [
    "#Visualizing lot frontage - it looks like the distribution is highly dependent on neighborhood.\n",
    "#We should control for this. For now let's make a groupby object grouping lot frontage by neighborhood.\n",
    "#We'll come back to this in a bit\n",
    "f, axarr = plt.subplots(5,5)\n",
    "for i, j in enumerate(trainDf['Neighborhood'].unique()):\n",
    "    tmp = trainDf.loc[trainDf['Neighborhood'] == j]\n",
    "    axarr[int(i/5), i%5].hist(tmp['LotFrontage'].dropna())\n",
    "    axarr[int(i/5), i%5].set_title(str(j))\n",
    "    \n",
    "plt.setp([a.get_xticklabels() for a in axarr[0, :]], visible=False)\n",
    "plt.setp([a.get_xticklabels() for a in axarr[1, :]], visible=False)\n",
    "plt.setp([a.get_xticklabels() for a in axarr[2, :]], visible=False)\n",
    "plt.setp([a.get_xticklabels() for a in axarr[3, :]], visible=False)\n",
    "plt.setp([a.get_yticklabels() for a in axarr[:, 1]], visible=False)\n",
    "plt.setp([a.get_yticklabels() for a in axarr[:, 2]], visible=False)\n",
    "plt.setp([a.get_yticklabels() for a in axarr[:, 3]], visible=False)\n",
    "plt.setp([a.get_yticklabels() for a in axarr[:, 4]], visible=False)\n",
    "\n",
    "f.subplots_adjust(hspace=0.7)\n",
    "\n",
    "plt.show()"
   ]
  },
  {
   "cell_type": "code",
   "execution_count": 44,
   "metadata": {
    "_uuid": "83520ffef300c7d53de03b9878aa7901f5ac91a8",
    "collapsed": true
   },
   "outputs": [],
   "source": [
    "lotFrontByNeighborhood = trainDf['LotFrontage'].groupby(trainDf['Neighborhood'])"
   ]
  },
  {
   "cell_type": "code",
   "execution_count": 43,
   "metadata": {
    "_uuid": "40973f0ab64f986846bc2dc52c80d3f15a415c0d",
    "collapsed": true
   },
   "outputs": [],
   "source": [
    "#Factorizing categorical variables - encoding them to ordinal numbers. Helps with fitting.\n",
    "\n",
    "from sklearn.preprocessing import LabelEncoder\n",
    "le = LabelEncoder()\n",
    "\n",
    "def factorize(df, factorDf, col, fill_na=None):\n",
    "    factorDf[col] = df[col]\n",
    "    if fill_na is not None:\n",
    "        factorDf[col].fillna(fill_na, inplace = True)\n",
    "    le.fit(factorDf[col].unique())\n",
    "    factorDf[col] = le.transform(factorDf[col])\n",
    "    return factorDf"
   ]
  },
  {
   "cell_type": "code",
   "execution_count": 40,
   "metadata": {},
   "outputs": [
    {
     "data": {
      "text/plain": [
       "Neighborhood\n",
       "Blmngtn    186000.0\n",
       "Blueste    137500.0\n",
       "BrDale     106000.0\n",
       "BrkSide    127000.0\n",
       "ClearCr    190000.0\n",
       "CollgCr    195950.0\n",
       "Crawfor    189950.0\n",
       "Edwards    118750.0\n",
       "Gilbert    181000.0\n",
       "IDOTRR     108000.0\n",
       "MeadowV     87000.0\n",
       "Mitchel    153500.0\n",
       "NAmes      140000.0\n",
       "NPkVill    146000.0\n",
       "NWAmes     181000.0\n",
       "NoRidge    290000.0\n",
       "NridgHt    311906.5\n",
       "OldTown    117000.0\n",
       "SWISU      139500.0\n",
       "Sawyer     134950.0\n",
       "SawyerW    179200.0\n",
       "Somerst    225500.0\n",
       "StoneBr    282000.0\n",
       "Timber     226250.0\n",
       "Veenker    190500.0\n",
       "Name: SalePrice, dtype: float64"
      ]
     },
     "execution_count": 40,
     "metadata": {},
     "output_type": "execute_result"
    }
   ],
   "source": [
    "#Let's also look at median sale price per neighborhood - we can turn this into a feature as well\n",
    "trainDf.groupby('Neighborhood')['SalePrice'].median()"
   ]
  },
  {
   "cell_type": "code",
   "execution_count": null,
   "metadata": {
    "collapsed": true
   },
   "outputs": [],
   "source": []
  },
  {
   "cell_type": "code",
   "execution_count": 45,
   "metadata": {
    "_uuid": "0f767c8b0834b8e2926f546648b92ba5c42d087a",
    "collapsed": true
   },
   "outputs": [],
   "source": [
    "def prepData(df):\n",
    "    #Output a new dataframe containing all our processed data\n",
    "    outDf = pd.DataFrame(index=df.index)\n",
    "    #Control for varied lot frontage by neighborhood - when there's a missing value, use the group median\n",
    "    outDf['LotFrontage'] = df['LotFrontage']\n",
    "    for key,group in lotFrontByNeighborhood:\n",
    "        idx = (df['Neighborhood']==key) & (df['LotFrontage'].isnull())\n",
    "        outDf.loc[idx, 'LotFrontage'] = group.median()\n",
    "        \n",
    "    #Insert numerical values, fill missing values with zero \n",
    "    #Next step for future - impute missing values with interpolated estimates\n",
    "    colList = list(numDf.columns)\n",
    "    colList.remove('SalePrice')\n",
    "    for col in colList:\n",
    "        outDf[col] = df[col]\n",
    "        outDf[col].fillna(0, inplace=True)\n",
    "        \n",
    "    #Map Non numerical values - encode quality assessments like \"Poor\" and \"Good\" to ints\n",
    "    outDf[\"CentralAir\"] = (df[\"CentralAir\"] == \"Y\") * 1.0\n",
    "    \n",
    "    qualDict = {None:0, 'Po':1, 'Fa':2, 'TA':3, 'Gd':4, 'Ex':5}\n",
    "    outDf['ExterQual'] = df['ExterQual'].map(qualDict).astype(int)\n",
    "    outDf['ExterCond'] = df['ExterCond'].map(qualDict).astype(int)\n",
    "    outDf[\"GarageQual\"] = df[\"GarageQual\"].map(qualDict).astype(int)\n",
    "    outDf[\"GarageCond\"] = df[\"GarageCond\"].map(qualDict).astype(int)    \n",
    "    outDf[\"BsmtQual\"] = df[\"BsmtQual\"].map(qualDict).astype(int)\n",
    "    outDf[\"BsmtCond\"] = df[\"BsmtCond\"].map(qualDict).astype(int)\n",
    "    outDf[\"KitchenQual\"] = df[\"KitchenQual\"].map(qualDict).astype(int)\n",
    "    outDf[\"HeatingQC\"] = df[\"HeatingQC\"].map(qualDict).astype(int)    \n",
    "    outDf[\"FireplaceQu\"] = df[\"FireplaceQu\"].map(qualDict).astype(int)\n",
    "\n",
    "\n",
    "    outDf[\"BsmtExposure\"] = df[\"BsmtExposure\"].map(\n",
    "        {None: 0, \"No\": 1, \"Mn\": 2, \"Av\": 3, \"Gd\": 4}).astype(int)\n",
    "\n",
    "    bsmt_fin_dict = {None: 0, \"Unf\": 1, \"LwQ\": 2, \"Rec\": 3, \"BLQ\": 4, \"ALQ\": 5, \"GLQ\": 6}\n",
    "    outDf[\"BsmtFinType1\"] = df[\"BsmtFinType1\"].map(bsmt_fin_dict).astype(int)\n",
    "    outDf[\"BsmtFinType2\"] = df[\"BsmtFinType2\"].map(bsmt_fin_dict).astype(int)\n",
    "    outDf[\"Fence\"] = df[\"Fence\"].map(\n",
    "        {None: 0, \"MnWw\": 1, \"GdWo\": 2, \"MnPrv\": 3, \"GdPrv\": 4}).astype(int)\n",
    "    outDf[\"GarageFinish\"] = df[\"GarageFinish\"].map(\n",
    "        {None: 0, \"Unf\": 1, \"RFn\": 2, \"Fin\": 3}).astype(int)\n",
    "    outDf[\"Functional\"] = df[\"Functional\"].map(\n",
    "        {None: 0, \"Sal\": 1, \"Sev\": 2, \"Maj2\": 3, \"Maj1\": 4, \n",
    "         \"Mod\": 5, \"Min2\": 6, \"Min1\": 7, \"Typ\": 8}).astype(int)\n",
    "    \n",
    "    outDf[\"PoolQC\"] = df[\"PoolQC\"].map(qualDict).astype(int)\n",
    "    \n",
    "    \n",
    "    #Factorize all other categorical values\n",
    "    outDf = factorize(df, outDf, \"Neighborhood\")    \n",
    "    outDf = factorize(df, outDf, \"Exterior1st\", \"Other\")\n",
    "    outDf = factorize(df, outDf, \"Exterior2nd\", \"Other\")    \n",
    "    outDf = factorize(df, outDf, \"MSSubClass\")\n",
    "    outDf = factorize(df, outDf, \"MSZoning\", \"RL\")\n",
    "    outDf = factorize(df, outDf, \"MasVnrType\", \"None\")   \n",
    "    outDf = factorize(df, outDf, \"LotConfig\")\n",
    "    outDf = factorize(df, outDf, \"Condition1\")\n",
    "    outDf = factorize(df, outDf, \"BldgType\")\n",
    "    outDf = factorize(df, outDf, \"HouseStyle\")\n",
    "    outDf = factorize(df, outDf, \"RoofStyle\")\n",
    "    outDf = factorize(df, outDf, \"Foundation\")\n",
    "    outDf = factorize(df, outDf, \"SaleCondition\")    \n",
    "    outDf = factorize(df, outDf, \"SaleType\", \"Oth\")\n",
    "\n",
    "    \n",
    "    #Encode neighborhoods to ints based on median price\n",
    "    neighborhoodMap = {\n",
    "        \"MeadowV\" : 0,  #  87000\n",
    "        \"BrDale\" : 1,   # 106000\n",
    "        \"IDOTRR\" : 1,   # 108000\n",
    "        \"OldTown\" : 1,  # 117000\n",
    "        \"Edwards\" : 1,  # 118750\n",
    "        \"BrkSide\" : 1,  # 127000\n",
    "        \"Sawyer\" : 1,   # 134950\n",
    "        \"Blueste\" : 1,  # 137500\n",
    "        \"SWISU\" : 2,    # 139500\n",
    "        \"NAmes\" : 2,    # 140000\n",
    "        \"NPkVill\" : 2,  # 146000\n",
    "        \"Mitchel\" : 2,  # 153500\n",
    "        \"SawyerW\" : 2,  # 179200\n",
    "        \"Gilbert\" : 2,  # 181000\n",
    "        \"NWAmes\" : 2,   # 181000\n",
    "        \"Blmngtn\" : 3,  # 186000\n",
    "        \"Crawfor\" : 3,  # 189950        \n",
    "        \"ClearCr\" : 3,  # 190000        \n",
    "        \"Veenker\" : 3,  # 190500\n",
    "        \"CollgCr\" : 3,  # 195950\n",
    "        \"Somerst\" : 3,  # 225500\n",
    "        \"Timber\" : 3,   # 226250\n",
    "        \"StoneBr\" : 4,  # 282000\n",
    "        \"NoRidge\" : 4,  # 290000\n",
    "        \"NridgHt\" : 4,  # 311907\n",
    "    }\n",
    "    \n",
    "    outDf['NeighborhoodBin'] = df['Neighborhood'].map(neighborhoodMap)\n",
    "    return outDf\n",
    "    \n",
    "    \n",
    "        "
   ]
  },
  {
   "cell_type": "code",
   "execution_count": 46,
   "metadata": {
    "_uuid": "247c745e07309dfce65f97b88dfeb1c6bc5a6feb"
   },
   "outputs": [],
   "source": [
    "#Process our train and test sets\n",
    "preppedTrainDf = prepData(trainDf)\n",
    "preppedTestDf = prepData(testDf)"
   ]
  },
  {
   "cell_type": "code",
   "execution_count": 56,
   "metadata": {
    "_uuid": "82ed57b573fb80f9d7b83a3b59a09b310a8f2b29"
   },
   "outputs": [
    {
     "name": "stdout",
     "output_type": "stream",
     "text": [
      "(1370, 68) (1459, 68)\n"
     ]
    }
   ],
   "source": [
    "print(preppedTrainDf.shape, preppedTestDf.shape)"
   ]
  },
  {
   "cell_type": "code",
   "execution_count": null,
   "metadata": {
    "_uuid": "69c6eef4b966264ece24e7ff9423d5512e3b5c23",
    "collapsed": true
   },
   "outputs": [],
   "source": []
  },
  {
   "cell_type": "code",
   "execution_count": null,
   "metadata": {
    "_uuid": "0427badcd7544d3078b155018f05063f4799d8c2",
    "collapsed": true
   },
   "outputs": [],
   "source": [
    "#Let's try Lasso regression as a first pass. Lasso is a great, simple way to counter overfitting. It imposes\n",
    "#L1 regularization by imposing an additional penalty to the cost function that's linear in the number of parameters."
   ]
  },
  {
   "cell_type": "code",
   "execution_count": 71,
   "metadata": {
    "_uuid": "474df84fb31caedb410b1a020fed36d283e6136f",
    "collapsed": true
   },
   "outputs": [],
   "source": [
    "from sklearn.linear_model import Lasso"
   ]
  },
  {
   "cell_type": "code",
   "execution_count": 72,
   "metadata": {
    "_uuid": "d41f04a29bf7c2e35c409d82f04c73cfa122d687",
    "collapsed": true
   },
   "outputs": [],
   "source": [
    "#Let's use the log of sale price - remember our distribution looked lognormal so taking the log should\n",
    "#transform it to look more like a normal distribution and make it more conducive to regression\n",
    "labelDf = pd.DataFrame(index = preppedTrainDf.index, columns=['SalePrice'])\n",
    "labelDf['SalePrice'] = np.log(trainDf['SalePrice'])\n",
    "\n"
   ]
  },
  {
   "cell_type": "code",
   "execution_count": 79,
   "metadata": {
    "collapsed": true
   },
   "outputs": [],
   "source": [
    "#Let's use grid search to handle cross validation and pick out the optimal value of alpha"
   ]
  },
  {
   "cell_type": "code",
   "execution_count": 73,
   "metadata": {
    "collapsed": true
   },
   "outputs": [],
   "source": [
    "lassoGrid = Lasso()\n",
    "from sklearn.model_selection import GridSearchCV\n",
    "parameters = {'alpha':[x/100000 for x in range(500)], 'max_iter':[50000]}\n",
    "myGrid = GridSearchCV(lassoGrid, parameters)"
   ]
  },
  {
   "cell_type": "code",
   "execution_count": 74,
   "metadata": {},
   "outputs": [
    {
     "name": "stderr",
     "output_type": "stream",
     "text": [
      "/Users/ajohnson/anaconda/lib/python3.6/site-packages/sklearn/model_selection/_validation.py:238: UserWarning: With alpha=0, this algorithm does not converge well. You are advised to use the LinearRegression estimator\n",
      "  estimator.fit(X_train, y_train, **fit_params)\n",
      "/Users/ajohnson/anaconda/lib/python3.6/site-packages/sklearn/linear_model/coordinate_descent.py:470: UserWarning: Coordinate descent with alpha=0 may lead to unexpected results and is discouraged.\n",
      "  positive)\n",
      "/Users/ajohnson/anaconda/lib/python3.6/site-packages/sklearn/linear_model/coordinate_descent.py:484: ConvergenceWarning: Objective did not converge. You might want to increase the number of iterations. Fitting data with very small alpha may cause precision problems.\n",
      "  ConvergenceWarning)\n",
      "/Users/ajohnson/anaconda/lib/python3.6/site-packages/sklearn/model_selection/_validation.py:238: UserWarning: With alpha=0, this algorithm does not converge well. You are advised to use the LinearRegression estimator\n",
      "  estimator.fit(X_train, y_train, **fit_params)\n",
      "/Users/ajohnson/anaconda/lib/python3.6/site-packages/sklearn/linear_model/coordinate_descent.py:470: UserWarning: Coordinate descent with alpha=0 may lead to unexpected results and is discouraged.\n",
      "  positive)\n",
      "/Users/ajohnson/anaconda/lib/python3.6/site-packages/sklearn/linear_model/coordinate_descent.py:484: ConvergenceWarning: Objective did not converge. You might want to increase the number of iterations. Fitting data with very small alpha may cause precision problems.\n",
      "  ConvergenceWarning)\n",
      "/Users/ajohnson/anaconda/lib/python3.6/site-packages/sklearn/model_selection/_validation.py:238: UserWarning: With alpha=0, this algorithm does not converge well. You are advised to use the LinearRegression estimator\n",
      "  estimator.fit(X_train, y_train, **fit_params)\n",
      "/Users/ajohnson/anaconda/lib/python3.6/site-packages/sklearn/linear_model/coordinate_descent.py:470: UserWarning: Coordinate descent with alpha=0 may lead to unexpected results and is discouraged.\n",
      "  positive)\n",
      "/Users/ajohnson/anaconda/lib/python3.6/site-packages/sklearn/linear_model/coordinate_descent.py:484: ConvergenceWarning: Objective did not converge. You might want to increase the number of iterations. Fitting data with very small alpha may cause precision problems.\n",
      "  ConvergenceWarning)\n"
     ]
    },
    {
     "name": "stdout",
     "output_type": "stream",
     "text": [
      "Lasso(alpha=0.00049, copy_X=True, fit_intercept=True, max_iter=50000,\n",
      "   normalize=False, positive=False, precompute=False, random_state=None,\n",
      "   selection='cyclic', tol=0.0001, warm_start=False)\n"
     ]
    }
   ],
   "source": [
    "myGrid.fit(preppedTrainDf, labelDf)\n",
    "print(myGrid.best_estimator_)"
   ]
  },
  {
   "cell_type": "code",
   "execution_count": 75,
   "metadata": {
    "_uuid": "eb021f86aebf7eae7fafbfa65bccf4fa7f7527ad"
   },
   "outputs": [
    {
     "data": {
      "text/plain": [
       "Lasso(alpha=0.00049, copy_X=True, fit_intercept=True, max_iter=50000,\n",
       "   normalize=False, positive=False, precompute=False, random_state=None,\n",
       "   selection='cyclic', tol=0.0001, warm_start=False)"
      ]
     },
     "execution_count": 75,
     "metadata": {},
     "output_type": "execute_result"
    }
   ],
   "source": [
    "#Looks like 0.00049 is our best candidate. Let's go ahead and fit with it.\n",
    "regr = Lasso(alpha = 0.00049, max_iter = 50000)\n",
    "regr.fit(preppedTrainDf, labelDf)"
   ]
  },
  {
   "cell_type": "code",
   "execution_count": 76,
   "metadata": {
    "_uuid": "a5841976ec87c216a1e39d56533525f5394c3c1a",
    "collapsed": true
   },
   "outputs": [],
   "source": [
    "#Predicting sale prices from fit\n",
    "y_pred = regr.predict(preppedTrainDf)\n",
    "y_test =labelDf['SalePrice']"
   ]
  },
  {
   "cell_type": "code",
   "execution_count": 77,
   "metadata": {
    "_uuid": "9340ad782104b420fadb11684de06addd244e731",
    "collapsed": true
   },
   "outputs": [],
   "source": [
    "#Function for root mean squared error\n",
    "from sklearn.metrics import mean_squared_error\n",
    "def rmse(y_true, y_pred):\n",
    "    return np.sqrt(mean_squared_error(y_true, y_pred))"
   ]
  },
  {
   "cell_type": "code",
   "execution_count": 78,
   "metadata": {
    "_uuid": "d7d02852d8337ae85b6f13e2831e31a48b73c1de"
   },
   "outputs": [
    {
     "name": "stdout",
     "output_type": "stream",
     "text": [
      "0.106987910301\n"
     ]
    }
   ],
   "source": [
    "#RMSE of ~10% is not too bad for now\n",
    "print(rmse(y_test, y_pred))"
   ]
  },
  {
   "cell_type": "code",
   "execution_count": 80,
   "metadata": {
    "_uuid": "2578d8695aa6e52dd35c1e1944c0376fe76a51b6",
    "collapsed": true
   },
   "outputs": [],
   "source": [
    "#Make our prediction on the test set\n",
    "lassoPred = regr.predict(preppedTestDf)"
   ]
  },
  {
   "cell_type": "code",
   "execution_count": null,
   "metadata": {
    "_uuid": "4c82023f80fb1b4f690974f7c4b2b04e0637e2f0",
    "collapsed": true
   },
   "outputs": [],
   "source": []
  },
  {
   "cell_type": "code",
   "execution_count": null,
   "metadata": {
    "_uuid": "9b092fd7965fc061df5f341c34991769839fd14d",
    "collapsed": true
   },
   "outputs": [],
   "source": []
  },
  {
   "cell_type": "code",
   "execution_count": 66,
   "metadata": {
    "_uuid": "e99383c8a208ae33803c4adc06e882466065e3e3",
    "collapsed": true
   },
   "outputs": [],
   "source": []
  },
  {
   "cell_type": "code",
   "execution_count": 81,
   "metadata": {
    "_uuid": "4bdf9d488ebc4d07ac69458f7ab03f4a42d97edd",
    "collapsed": true
   },
   "outputs": [],
   "source": [
    "#Now let's try xgBoost. XGBoost uses the popular gradient boosting algorithm which uses a series of individual\n",
    "#regressor trees to score inputs while adding subsequent trees which predict the residuals from previous trees\n",
    "#and then combines the results into a final prediction\n",
    "#(see https://docs.aws.amazon.com/sagemaker/latest/dg/xgboost-HowItWorks.html)"
   ]
  },
  {
   "cell_type": "code",
   "execution_count": null,
   "metadata": {
    "_uuid": "7f7a8fbe300bdd512fa72890666cbccd6539635d"
   },
   "outputs": [],
   "source": [
    "import xgboost as xgb"
   ]
  },
  {
   "cell_type": "code",
   "execution_count": null,
   "metadata": {
    "_uuid": "758067cc0ecbd641ce2302fc2229ccab03e24b8f",
    "collapsed": true
   },
   "outputs": [],
   "source": [
    "xgbRegr = xgb.XGBRegressor()"
   ]
  },
  {
   "cell_type": "code",
   "execution_count": null,
   "metadata": {
    "_uuid": "c32f1199f69ec33c32672b0846dbb119d5f7248f",
    "collapsed": true
   },
   "outputs": [],
   "source": [
    "#Let's use grid search again - now we have many more parameters to optimize!\n",
    "\n",
    "xgParams = {'colsample_bytree':[x/10. for x in range(10)], \n",
    "            'gamma':[x/10. for x in range(10)],\n",
    "           'learning rate':[x/100. for x in range(10)],\n",
    "           'max_depth':[1,2,3,4,5],\n",
    "           'min_child_weight':[0, 0.5, 1, 1.5, 2, 2.5],\n",
    "           'n_estimators':[x*100. for x in range(100)],\n",
    "           'reg_alpha':[x/10. for x in range(10)],\n",
    "           'reg_lambda':[x/10. for x in range(10)],\n",
    "           'subsample':[x/10. for x in range(10)],\n",
    "           'random_state':[x for x in range(100)],\n",
    "           'silent':[1]}"
   ]
  },
  {
   "cell_type": "code",
   "execution_count": null,
   "metadata": {
    "_uuid": "47274162de7b42418fcbe35f99b894b637cddb68",
    "collapsed": true
   },
   "outputs": [],
   "source": [
    "xgbGrid = GridSearchCV(xgbRegr, xgParams)"
   ]
  },
  {
   "cell_type": "code",
   "execution_count": null,
   "metadata": {
    "_uuid": "2fc05d3fa2ea5b5fb24122f5ff16fc316a7da259",
    "collapsed": true
   },
   "outputs": [],
   "source": [
    "xgbGrid.fit(preppedTrainDf, labelDf)"
   ]
  },
  {
   "cell_type": "code",
   "execution_count": null,
   "metadata": {
    "_uuid": "b60d741011fa02c2e39b5975629258c4faf60052",
    "collapsed": true
   },
   "outputs": [],
   "source": [
    "#Running xgb with optimized parameters\n",
    "regr = xgb.XGBRegressor(\n",
    "                 colsample_bytree=0.2,\n",
    "                 gamma=0.0,\n",
    "                 learning_rate=0.01,\n",
    "                 max_depth=4,\n",
    "                 min_child_weight=1.5,\n",
    "                 n_estimators=7200,                                                                  \n",
    "                 reg_alpha=0.9,\n",
    "                 reg_lambda=0.6,\n",
    "                 subsample=0.2,\n",
    "                 seed=42,\n",
    "                 silent=1)\n",
    "\n",
    "regr.fit(preppedTrainDf, labelDf)"
   ]
  },
  {
   "cell_type": "code",
   "execution_count": null,
   "metadata": {
    "_uuid": "fd3198229c6bb631da09a16a8ca4825f46e7402c",
    "collapsed": true
   },
   "outputs": [],
   "source": [
    "xgbPred = regr.predict(preppedTrainDf)\n",
    "xgbTest = labelDf"
   ]
  },
  {
   "cell_type": "code",
   "execution_count": null,
   "metadata": {
    "_uuid": "f1b760762dceafb2e0baf31964042e37ea6b3efd",
    "collapsed": true
   },
   "outputs": [],
   "source": [
    "rmse(xgbTest, xgbPred)"
   ]
  },
  {
   "cell_type": "code",
   "execution_count": null,
   "metadata": {
    "_uuid": "459dd1cd3c5131cf0a6224ec00d19e9f7be9458c",
    "collapsed": true
   },
   "outputs": [],
   "source": [
    "xgbTestPred = regr.predict(preppedTestDf)"
   ]
  },
  {
   "cell_type": "code",
   "execution_count": null,
   "metadata": {
    "_uuid": "5e9b1e42a61d03baf3269d74060a49b3efb57749",
    "collapsed": true
   },
   "outputs": [],
   "source": [
    "#Average the results from our Lasso model and our XGBoost model\n",
    "submitPred = (lassoPred + xgbTestPred)/2"
   ]
  },
  {
   "cell_type": "code",
   "execution_count": null,
   "metadata": {
    "_uuid": "60f7aeb236607a2c910f236a7ae086bdcbea7779",
    "collapsed": true
   },
   "outputs": [],
   "source": [
    "#Remember to transform back to housing prices since we took the log!\n",
    "submission = np.exp(submitPred)"
   ]
  },
  {
   "cell_type": "code",
   "execution_count": null,
   "metadata": {
    "_uuid": "b09d71bd47b878d1515fe38fccb531c5f322fa42",
    "collapsed": true
   },
   "outputs": [],
   "source": [
    "predDf = pd.DataFrame(submission, index=preppedTestDf['Id'], columns=['SalePrice'])\n",
    "predDf.to_csv('output.csv',header=True, index_label='Id')"
   ]
  },
  {
   "cell_type": "code",
   "execution_count": null,
   "metadata": {
    "_uuid": "8f57009486d27a2dfc20fb76869886db0038a267",
    "collapsed": true
   },
   "outputs": [],
   "source": []
  }
 ],
 "metadata": {
  "kernelspec": {
   "display_name": "Python 3",
   "language": "python",
   "name": "python3"
  },
  "language_info": {
   "codemirror_mode": {
    "name": "ipython",
    "version": 3
   },
   "file_extension": ".py",
   "mimetype": "text/x-python",
   "name": "python",
   "nbconvert_exporter": "python",
   "pygments_lexer": "ipython3",
   "version": "3.6.1"
  }
 },
 "nbformat": 4,
 "nbformat_minor": 1
}
